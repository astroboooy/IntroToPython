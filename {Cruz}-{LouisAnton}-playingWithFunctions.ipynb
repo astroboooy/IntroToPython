{
 "cells": [
  {
   "cell_type": "markdown",
   "id": "b311cd50-76d0-4eff-aacf-c954d7783de3",
   "metadata": {},
   "source": [
    "# Assignment: Playing with Functions\n",
    "\n",
    "## Instructions\n",
    "\n",
    "This is the template file for the assignment of Module 4 called \"Playing with Functions.\" Please carefully follow the instructions below.\n",
    "\n",
    "1. Rename this file by filling out your surname and first name in the file name. For example, if your surname is Ilagan and if your first name is Joben, then rename the file to ILAGAN-JOBEN-playingWithFunctions.ipynb.\n",
    "2. Fill out the markdown cell just above `Problem 1` with your student details as indicated.  \n",
    "3. To submit this file, first, upload your file to your GitHub repository and, second, submit your repository link to the assignment on Canvas.\n"
   ]
  },
  {
   "cell_type": "markdown",
   "id": "72180ce5-a105-465d-930f-b624c6c71238",
   "metadata": {},
   "source": [
    "## Student Details\n",
    "\n",
    "ID Number:  191369\n",
    "\n",
    "Surname:  Cruz\n",
    "\n",
    "Year and Course:  BS ITE"
   ]
  },
  {
   "cell_type": "markdown",
   "id": "7843e78a-c77f-4662-900c-714330ada001",
   "metadata": {},
   "source": [
    "## Problem 1\n",
    "## Factorial (1 point)\n",
    "\n",
    "The **factorial** of a number is the product of that number and all the numbers below it. For example, 5 factorial (denoted 5! in math) is 5 * 4 * 3 * 2 * 1, which is 120.  \n",
    "\n",
    "**Write a function called `problem_1` that takes one positional argument `number`. The function should return  the factorial of `number` as an integer.**\n",
    "\n",
    "Example input/output:  \n",
    "`problem_1(5)` => `120`  \n",
    "`problem_1(10)` => `3628800`  "
   ]
  },
  {
   "cell_type": "code",
   "execution_count": 63,
   "id": "1a62b7a0-5d38-42dd-8cb8-ced94be5455d",
   "metadata": {},
   "outputs": [
    {
     "name": "stdout",
     "output_type": "stream",
     "text": [
      "Pleae enter a positive integer: 5\n",
      "The Factorial of 5 is 120\n"
     ]
    }
   ],
   "source": [
    "def problem_1 (number):\n",
    "    fct = 1\n",
    "    if number == 0 or number == 1:\n",
    "        return 1\n",
    "    for i in range (1, number + 1):\n",
    "        fct *= i\n",
    "    return fct\n",
    "try: \n",
    "    number = int (input(\"Pleae enter a positive integer: \"))\n",
    "except: \n",
    "    print (\"This is not a positive integer!!!\")\n",
    "    \n",
    "result = problem_1(number)\n",
    "print (\"The Factorial of\",number,\"is\", result)"
   ]
  },
  {
   "cell_type": "markdown",
   "id": "b95d08a5-e4f9-4bb4-8e18-e09e629df96b",
   "metadata": {},
   "source": [
    "## Problem 2\n",
    "## Guessing Game (2 points) \n",
    "\n",
    "Recall that we use `input()` to ask for user input.  \n",
    "\n",
    "**Write a function called `problem_2` that takes one positional argument `passphrase`. The function should ask the user to enter the passphrase with `input()`. If the user enters the correct passphrase, the function should return the integer `1`. If the user enters the wrong passphrase, the function should keep asking them for the passphrase. If the user gets the passphrase wrong 3 times, the function should return the integer `0`.**  \n",
    "\n",
    "Example input/output:  \n",
    "\n",
    "Function input:  \n",
    "`problem_2(\"chums\")`  \n",
    "Simulated user input:  \n",
    "`joben`  \n",
    "`chums`  \n",
    "Output:  \n",
    "`1`  \n",
    "\n",
    "Function input:  \n",
    "`problem_2(\"annika\")`  \n",
    "Simulated user input:  \n",
    "`joe`  \n",
    "`earl`  \n",
    "`niks`  \n",
    "Output:  \n",
    "`0`"
   ]
  },
  {
   "cell_type": "code",
   "execution_count": 28,
   "id": "948e9ab7-85e3-417e-914d-c1c27bdbfcdb",
   "metadata": {},
   "outputs": [
    {
     "name": "stdout",
     "output_type": "stream",
     "text": [
      "Please input your password: Syndr\n",
      "Error! Please input your password: Synde\n",
      "Error! Please input your password: Syndr0me\n"
     ]
    },
    {
     "data": {
      "text/plain": [
       "'1'"
      ]
     },
     "execution_count": 28,
     "metadata": {},
     "output_type": "execute_result"
    }
   ],
   "source": [
    "def problem_2 (passphrase):\n",
    "    chance = 1 \n",
    "    password = input(\"Please input your password: \")\n",
    "    \n",
    "    if password == passphrase:\n",
    "        return (\"1\")\n",
    "    while password != passphrase: \n",
    "        password_2 = input(\"Error! Please input your password: \")\n",
    "        \n",
    "        if password_2 == passphrase:\n",
    "            return (\"1\")\n",
    "        \n",
    "        else:\n",
    "            chance += 1\n",
    "            if chance == 3:\n",
    "                return (\"0\")\n",
    "            \n",
    "            \n",
    "problem_2 (\"Syndr0me\")"
   ]
  },
  {
   "cell_type": "markdown",
   "id": "1b434f41-8e16-4a4d-a8d0-96be3ed2a309",
   "metadata": {},
   "source": [
    "## Problem 3\n",
    "## Temperature Converter (3 points)\n",
    "\n",
    "A common beginner's exercise is to write a function that can convert a temperature value from one format, such as Fahrenheit, to another, such as Celsius.  \n",
    "\n",
    "In this problem, extend this idea to convert temperatures freely to and from any of the following formats: Celsius, Fahrenheit, and Kelvin.  \n",
    "\n",
    "**Write a function called `problem_3` that takes three positional arguments: (float) `temp`, (string) `original_format`, (string) `new_format`. The function should convert `temp`, which is represented in `original_format`, to its equivalent value in the `new_format.`**  \n",
    "\n",
    "Example input/output:  \n",
    "`problem_3(0.0, \"Celsius\", \"Fahrenheit\")` => `32.0`  \n",
    "`problem_3(500.0, \"Kelvin\", \"Fahrenheit\")` => `440.33`  \n",
    "`problem_3(273.0, \"Kelvin\", \"Celsius\")` => `0.0`  \n",
    "\n",
    "For your convenience:  \n",
    "1. The accuracy of your float outputs will only be evaluated to within 4 decimal places. "
   ]
  },
  {
   "cell_type": "code",
   "execution_count": 52,
   "id": "652183db-4f42-40cf-b8cf-f0120914b86b",
   "metadata": {},
   "outputs": [
    {
     "name": "stdout",
     "output_type": "stream",
     "text": [
      "Please enter the temp: 100\n",
      "Please Enter current unit of temp (Kelvin, Fahrenheit, or Celsius): Celsius\n",
      "Please input desired unit of temp (Kelvin, Fahrenheit, or Celsius): Fahrenheit\n",
      "Temperature:  100.0\n",
      "Original Unit:  Celsius\n",
      "Converted Unit:  Fahrenheit\n",
      "Converted Temperature:  212.0\n"
     ]
    }
   ],
   "source": [
    "def problem_3 (temp, original_format, new_format):\n",
    "\n",
    "    if (original_format == \"Celsius\" and new_format == \"Kelvin\"):\n",
    "        return (temp + 273.15)\n",
    "    elif original_format == \"Celsius\" and new_format == \"Fahrenheit\":\n",
    "        return ((temp *9/5) +32)\n",
    "    elif original_format == \"Kelvin\" and new_format == \"Celsius\":\n",
    "        return (temp - 273.15)\n",
    "    elif original_format == \"Kelvin\" and new_format == \"Fahrenheit\":\n",
    "        return ((temp-273.15)*9/5 +32)\n",
    "    elif original_format == \"Fahrenheit\" and new_format == \"Celsius\":\n",
    "        return ((temp -32) *5/9)\n",
    "    elif original_format == \"Fahrenheit\" and new_format == \"Kelvin\":\n",
    "        return ((temp - 32)*5/9 +273.15)\n",
    "\n",
    "temp = float (input(\"Please enter the temp: \"))\n",
    "original_format = str(input(\"Please Enter current unit of temp (Kelvin, Fahrenheit, or Celsius): \"))\n",
    "new_format = str(input (\"Please input desired unit of temp (Kelvin, Fahrenheit, or Celsius): \"))\n",
    "\n",
    "newvalue = problem_3(temp, original_format, new_format)\n",
    "print (\"Temperature: \",temp)\n",
    "print (\"Original Unit: \", original_format)\n",
    "print (\"Converted Unit: \", new_format)\n",
    "print (\"Converted Temperature: \", newvalue)"
   ]
  },
  {
   "cell_type": "markdown",
   "id": "f12ed1ad-7738-4f4a-aa35-8f7ee87ea395",
   "metadata": {},
   "source": [
    "## Problem 4\n",
    "## Exact Change (4 points)\n",
    "\n",
    "Part of a cashier's job is to give exact change to customers. It can be difficult to mentally tally how many coins of each type (i.e., 1 peso, 25 centavos, 10 centavos, etc.) to give to a customer.  \n",
    "\n",
    "**Write a function called `problem_4` that takes 1 positional argument `amount` in centavos. The function should return a string that describes the appropriate amounts of each type of coin to give to the customer. The string should be formatted as follows:**  \n",
    "\n",
    "`\"1P:{num}/25C:{num}/10C:{num}/5C:{num}/1C:{num}\"`  \n",
    "\n",
    "**Use the fewest number of total coins possible.**  \n",
    "\n",
    "Example input/output:  \n",
    "`problem_4(105)` => `\"1P:1/25C:0/10C:0/5C:1/1C:0\"`  \n",
    "`problem_4(69)` => `\"1P:0/25C:2/10C:1/5C:1/1C:4\"`  "
   ]
  },
  {
   "cell_type": "code",
   "execution_count": 40,
   "id": "3899279e-d77b-49f6-a7ed-da43c631fff4",
   "metadata": {},
   "outputs": [
    {
     "data": {
      "text/plain": [
       "'Piso Coin/s: 0 / 25C Coin/s: 2 / 10C Coin/s: 1 / 5C Coin/s: 1 / 1C Coin/s: 4'"
      ]
     },
     "execution_count": 40,
     "metadata": {},
     "output_type": "execute_result"
    }
   ],
   "source": [
    "def problem_4 (amt):\n",
    "    \n",
    "    pc = amt // 100\n",
    "    tfc = (amt % 100)//25\n",
    "    tenc = amt % 25//10\n",
    "    fc = amt % 25 % 10 // 5\n",
    "    oc = amt % 5\n",
    "    \n",
    "    return (\"Piso Coin/s: \" + str (pc)+ \" / 25C Coin/s: \"  + str (tfc)+  \" / 10C Coin/s: \" + str (tenc)+ \" / 5C Coin/s: \" + str (fc) + \" / 1C Coin/s: \" + str (oc))\n",
    "\n",
    "problem_4 (69)"
   ]
  },
  {
   "cell_type": "markdown",
   "id": "a45e4549-fb1a-4a4e-aceb-1eb46ceaa2c2",
   "metadata": {},
   "source": [
    "## Problem 5\n",
    "## Invert Capitalization (3 points)  \n",
    "\n",
    "**Write a function called `problem_5` that takes 1 positional argument (string) `message`. The function should return a string whose uppercase letters are now lowercase and whose lowercase letters are now uppercase. Spaces should be left alone.**  \n",
    "\n",
    "Example input/output:  \n",
    "`problem_5(\"Test Me\")` => `\"tEST mE\"`  \n",
    "`problem_5(\"asSiGnmENt\")` => `\"ASsIgNMenT\"`  \n",
    "\n",
    "For your convenience:  \n",
    "1. The message will only ever consist of spaces, lowercase letters, and uppercase letters.  \n",
    "\n",
    "Hint: Research on `ord()` and `chr()`.  "
   ]
  },
  {
   "cell_type": "code",
   "execution_count": 51,
   "id": "df8d9597-cca1-44ef-b1c8-a0050d512d45",
   "metadata": {},
   "outputs": [
    {
     "data": {
      "text/plain": [
       "'asSiGnmENt'"
      ]
     },
     "execution_count": 51,
     "metadata": {},
     "output_type": "execute_result"
    }
   ],
   "source": [
    "def problem_5(message):\n",
    "    invert = ''\n",
    "    \n",
    "    for i in message:\n",
    "        if ord(i) == 32:\n",
    "            invert += chr(ord(i))\n",
    "        elif ord (i) in range (65,90):\n",
    "            invert += chr(ord(i)+32)\n",
    "        else:\n",
    "            invert += chr(ord(i)-32)\n",
    "    return invert\n",
    "\n",
    "message = \"ASsIgNMenT\"\n",
    "problem_5(message)\n"
   ]
  },
  {
   "cell_type": "code",
   "execution_count": null,
   "id": "b7fabc27",
   "metadata": {},
   "outputs": [],
   "source": []
  }
 ],
 "metadata": {
  "kernelspec": {
   "display_name": "Python 3",
   "language": "python",
   "name": "python3"
  },
  "language_info": {
   "codemirror_mode": {
    "name": "ipython",
    "version": 3
   },
   "file_extension": ".py",
   "mimetype": "text/x-python",
   "name": "python",
   "nbconvert_exporter": "python",
   "pygments_lexer": "ipython3",
   "version": "3.8.8"
  }
 },
 "nbformat": 4,
 "nbformat_minor": 5
}
