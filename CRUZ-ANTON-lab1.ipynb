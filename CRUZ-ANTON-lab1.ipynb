{
 "cells": [
  {
   "cell_type": "markdown",
   "id": "e119c62d",
   "metadata": {},
   "source": [
    "Assignment: Lab 1 <br>\n",
    "Student Details <br>\n",
    "ID Number: 191369 <br>\n",
    "Surname: Cruz <br>\n",
    "Year and Course: 3 BS ITE <br>\n",
    "\n",
    "Problem 1 (3 points)\n",
    "Currency Converter\n",
    "Overall prompt: Write a function called dollars_to_pesos that accepts an amount in US dollars and that RETURNS a string that indicates the equivalent amount in Philippine pesos.\n",
    "\n",
    "The program must follow these specifications:\n",
    "\n",
    "It is very important that your entire program is contained within a function. It is also very important that your output value is returned and not merely printed. This is to make sure that the function, when called, actually evaluates to a value instead of merely printing the calculated value out to the terminal. This is because the function, conceptually, is intended to be a utility function for further conversions, so it needs to evaluate to a value on its own.\n",
    "The function must accept the input through one parameter called dollars.\n",
    "The function must return a string that is formatted as follows: {dollars} US dollar(s) = {pesos} Philippine pesos., where dollars is the amount of dollars given as input and where pesos is the equivalent amount of pesos for the given dollars.\n",
    "For simplicity, use the conversion rate $1 = PHP 50.\n",
    "Sample Input and Output\n",
    "Sample Input:\n",
    "Enter the amount in US Dollars: 1\n",
    "Sample Output:\n",
    "1 US dollar(s) = 50 Philippine Pesos.\n",
    "\n",
    " \n",
    "Problem 2 (3)\n",
    "Numerical Operations\n",
    "Overall prompt: Write a function called perform_operations that accepts two parameters, x and y, which are integers. The function should PRINT the results of performing operations on those two numbers.\n",
    "\n",
    "The program must follow these specifications:\n",
    "\n",
    "It is very important that the function prints the output this time.\n",
    "The function must accept two parameters, x and y, which are both integers.\n",
    "The function should print the results of addition, subtraction, multiplication, division without the remainder, and finally the remainder upon division of x and y on separate lines.\n",
    "Sample Input and Output\n",
    "Sample Input:\n",
    "55\n",
    "3\n",
    "Sample Output:\n",
    "58\n",
    "52\n",
    "165\n",
    "18\n",
    "1\n",
    "\n",
    "Problem 3 (4)\n",
    "BMI Calculator\n",
    "Overall prompt: Write a function called bmi that computes for and returns your Body Mass Index (BMI). The formula for BMI is as follows:\n",
    "\n",
    "BMI = (kg) / (m^2)\n",
    "\n",
    "In the formula, kg is a person's weight in kilograms, and m is the person's height in meters.\n",
    "\n",
    "The program must follow these specifications:\n",
    "\n",
    "The function bmi must accept two parameters kg and cm, where kg is a person's weight in kilograms and cm is the person's height in centimeters.\n",
    "The function must return a float. This float will be checked for computational accuracy within 4 decimal places.\n",
    "Sample Input and Output\n",
    "Sample Input:\n",
    "kg = 65, cm = 180\n",
    "Sample Output:\n",
    "20.061728395061728\n",
    "\n",
    " "
   ]
  },
  {
   "cell_type": "markdown",
   "id": "65755bad",
   "metadata": {},
   "source": [
    "# Problem 1"
   ]
  },
  {
   "cell_type": "code",
   "execution_count": 1,
   "id": "88d8c960",
   "metadata": {},
   "outputs": [
    {
     "name": "stdout",
     "output_type": "stream",
     "text": [
      "Kindly enter the amound of USD for PHP conversion: 100\n",
      "$ 100.0  =  P 5000.0\n"
     ]
    }
   ],
   "source": [
    "def dollars_to_pesos (dollars):\n",
    "    pesos = dollars*50\n",
    "    return pesos\n",
    "\n",
    "#asking for USD\n",
    "dollars = float ( input (\"Kindly enter the amound of USD for PHP conversion: \"))\n",
    "print (\"$\",dollars, \" = \",\"P\", dollars_to_pesos (dollars))"
   ]
  },
  {
   "cell_type": "markdown",
   "id": "3e0bfdba",
   "metadata": {},
   "source": [
    "# Problem 2"
   ]
  },
  {
   "cell_type": "code",
   "execution_count": 2,
   "id": "7f1effe7",
   "metadata": {},
   "outputs": [
    {
     "name": "stdout",
     "output_type": "stream",
     "text": [
      "First Number: 100\n",
      "Second Number: 1000\n",
      "x+y: 1100\n",
      "x-y: -900\n",
      "x*y: 100000\n",
      "x/y (wo remainder): 0\n",
      "remainder 100\n"
     ]
    }
   ],
   "source": [
    "def perform_operations (x,y):\n",
    "    print (\"x+y:\", int(x+y))\n",
    "    print (\"x-y:\",int(x-y))\n",
    "    print (\"x*y:\",int(x*y))\n",
    "    print (\"x/y (wo remainder):\",int(x//y))\n",
    "    print (\"remainder\",int(x%y))\n",
    "    \n",
    "x = float (input(\"First Number: \" ))\n",
    "y = float (input(\"Second Number: \"))\n",
    "\n",
    "perform_operations (x,y)"
   ]
  },
  {
   "cell_type": "markdown",
   "id": "28918458",
   "metadata": {},
   "source": [
    "# Problem 3\n"
   ]
  },
  {
   "cell_type": "code",
   "execution_count": 3,
   "id": "7bd44a6e",
   "metadata": {},
   "outputs": [
    {
     "name": "stdout",
     "output_type": "stream",
     "text": [
      "Enter weight in kg: 100\n",
      "Enter height in cm: 1000\n"
     ]
    },
    {
     "data": {
      "text/plain": [
       "1.0"
      ]
     },
     "execution_count": 3,
     "metadata": {},
     "output_type": "execute_result"
    }
   ],
   "source": [
    "def BMI_calc (weight, height):\n",
    "    m = cm /100\n",
    "    ans= (kg)/(m**2)\n",
    "    return ans\n",
    "\n",
    "kg = float (input(\"Enter weight in kg: \"))\n",
    "cm = float (input(\"Enter height in cm: \"))\n",
    "BMI_calc (kg,cm)"
   ]
  },
  {
   "cell_type": "code",
   "execution_count": null,
   "id": "4c8cc21a",
   "metadata": {},
   "outputs": [],
   "source": []
  }
 ],
 "metadata": {
  "kernelspec": {
   "display_name": "Python 3",
   "language": "python",
   "name": "python3"
  },
  "language_info": {
   "codemirror_mode": {
    "name": "ipython",
    "version": 3
   },
   "file_extension": ".py",
   "mimetype": "text/x-python",
   "name": "python",
   "nbconvert_exporter": "python",
   "pygments_lexer": "ipython3",
   "version": "3.8.8"
  }
 },
 "nbformat": 4,
 "nbformat_minor": 5
}
