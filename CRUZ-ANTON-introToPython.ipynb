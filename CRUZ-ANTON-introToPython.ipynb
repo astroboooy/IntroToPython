{
 "cells": [
  {
   "cell_type": "markdown",
   "id": "bf1647d6",
   "metadata": {},
   "source": [
    "### Student Details\n",
    "###  ID Number: 19369\n",
    "### Surname: Cruz\n",
    "### Year and Course: 3BS ITE\n",
    "\n",
    "\n",
    "Problem 1 (5 points)\n",
    "This is the only problem in this assignment.\n",
    "\n",
    "Overall prompt:\n",
    "Write a program that prompts the user to input three positive integers and outputs the average of those three positive integers.\n",
    "\n",
    "The program must follow these specifications:\n",
    "\n",
    "Accept the user's input numbers one at a time. Use this format:\n",
    "Enter first number: {firstnumber}\n",
    "Enter second number: {secondnumber}\n",
    "Enter third number: {thirdnumber}\n",
    "The output should display using this format:\n",
    "The average is {average}.\n",
    "The program must, at some point, call a function called three_number_average that accepts three arguments and returns the average of those three arguments.\n",
    "Sample input and output\n",
    "Sample Input:\n",
    "Enter first number: 1\n",
    "Enter second number: 2\n",
    "Enter third number: 3\n",
    "Sample Output:\n",
    "The average is 2.0\n",
    "\n",
    "Sample Input:\n",
    "Enter first number: 1\n",
    "Enter second number: 1\n",
    "Enter third number: 1\n",
    "Sample Output:\n",
    "The average is 1.0\n",
    "\n",
    "Sample Input: Enter first number: 2\n",
    "Enter second number: 4\n",
    "Enter third number: 6\n",
    "Sample Output:\n",
    "The average is 4.0\n",
    "\n",
    "print(\"Hello World\")\n",
    " "
   ]
  },
  {
   "cell_type": "code",
   "execution_count": null,
   "id": "f539fe6f",
   "metadata": {},
   "outputs": [],
   "source": [
    "def average(num1,num2,num3):\n",
    "    three_number_average = (num1+num2+num3)/3\n",
    "    return three_number_average\n",
    "\n",
    "#ask for the first number\n",
    "num1 = float (input(\"Please enter the first number: \"))\n",
    "\n",
    "#ask for the second number\n",
    "num2 = float (input(\"Please enter the second number: \"))\n",
    "\n",
    "#ask for the third number\n",
    "num3 = float (input(\"Please enter the third number: \"))\n",
    "\n",
    "#solving for the average\n",
    "three_number_average = average(num1,num2,num3)\n",
    "\n",
    "#display the the average\n",
    "print (\"The average is \", three_number_average)"
   ]
  },
  {
   "cell_type": "markdown",
   "id": "e67ca86c",
   "metadata": {},
   "source": []
  }
 ],
 "metadata": {
  "kernelspec": {
   "display_name": "Python 3",
   "language": "python",
   "name": "python3"
  },
  "language_info": {
   "codemirror_mode": {
    "name": "ipython",
    "version": 3
   },
   "file_extension": ".py",
   "mimetype": "text/x-python",
   "name": "python",
   "nbconvert_exporter": "python",
   "pygments_lexer": "ipython3",
   "version": "3.8.8"
  }
 },
 "nbformat": 4,
 "nbformat_minor": 5
}
